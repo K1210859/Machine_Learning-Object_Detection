{
  "nbformat": 4,
  "nbformat_minor": 0,
  "metadata": {
    "colab": {
      "name": "ObjectDetection lab.ipynb",
      "provenance": []
    },
    "kernelspec": {
      "name": "python3",
      "display_name": "Python 3"
    },
    "language_info": {
      "name": "python"
    }
  },
  "cells": [
    {
      "cell_type": "code",
      "metadata": {
        "id": "DhCosYb0d7BO"
      },
      "source": [
        "from imageai.Detection import ObjectDetection\n",
        "import os\n",
        "\n",
        "execution_path = os.getcwd()\n",
        "detector = ObjectDetection()\n",
        "detector.setModelTypeAsRetinaNet()\n",
        "detector.setModelPath(os.path.join(execution_path , \"resnet50_coco_best_v2.1.0.h5\"))\n",
        "detector.loadModel()\n",
        "detection_list = detector.detectObjectsFromImage(execution_path , \"image.jpg\"), output_image_path=os.path.join(execution_path , \"imagenew.jpg\"))\n",
        "for everyObject in detections:\n",
        "  print(everyObject[\"name\"])\n"
      ],
      "execution_count": null,
      "outputs": []
    },
    {
      "cell_type": "markdown",
      "metadata": {
        "id": "VqgTB9-9LCTE"
      },
      "source": [
        "//pip install tensorflow==2.4.0\n",
        "//pip install keras==2.4.3  numpy==1.19.3 pillow==7.0.0 scipy==1.4.1 h5py==2.10.0 matplotlib==3.3.2 opencv-python keras-resnet==0.2.0\n",
        "//pip install imageai --upgrade\n"
      ]
    }
  ]
}